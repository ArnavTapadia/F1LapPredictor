{
 "cells": [
  {
   "cell_type": "markdown",
   "metadata": {},
   "source": [
    "Static class to access and clean F1 telemetry data using FastF1 API"
   ]
  },
  {
   "cell_type": "code",
   "execution_count": null,
   "metadata": {},
   "outputs": [],
   "source": [
    "import numpy as np\n",
    "import pandas as pd\n",
    "import fastf1\n",
    "\n",
    "class F1Dal:\n",
    "    #add variables here\n",
    "    xTrain = []\n",
    "    xTest = []\n",
    "    "
   ]
  }
 ],
 "metadata": {
  "kernelspec": {
   "display_name": "base",
   "language": "python",
   "name": "python3"
  },
  "language_info": {
   "name": "python",
   "version": "3.11.7"
  }
 },
 "nbformat": 4,
 "nbformat_minor": 2
}
