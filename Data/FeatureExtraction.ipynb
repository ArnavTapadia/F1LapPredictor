{
 "cells": [
  {
   "cell_type": "markdown",
   "metadata": {},
   "source": [
    "This class utilizes F1DAL to obtain data for certain years and then it cleans the data and takes the relevant features that a model will use.\n",
    "It also has a method named train_test_split which will create a train_validation_test split of the data"
   ]
  },
  {
   "cell_type": "markdown",
   "metadata": {},
   "source": []
  }
 ],
 "metadata": {
  "language_info": {
   "name": "python"
  }
 },
 "nbformat": 4,
 "nbformat_minor": 2
}
