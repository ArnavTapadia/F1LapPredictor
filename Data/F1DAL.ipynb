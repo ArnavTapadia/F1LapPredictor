{
 "cells": [
  {
   "cell_type": "markdown",
   "metadata": {},
   "source": [
    "Static class to access and clean F1 telemetry data using FastF1 API"
   ]
  },
  {
   "cell_type": "code",
   "execution_count": 19,
   "metadata": {},
   "outputs": [],
   "source": [
    "import numpy as np\n",
    "import pandas as pd\n",
    "import fastf1.plotting\n",
    "from matplotlib import pyplot as plt\n",
    "\n",
    "#FOR TESTING TO REMOVE LATER ------------\n",
    "pd.set_option('display.max_rows', None)\n",
    "pd.set_option('display.max_columns', None)\n",
    "#-------------------------\n",
    "\n",
    "class F1Dal:\n",
    "    #add variables here\n",
    "    xTrain = []\n",
    "    xTest = []\n",
    "\n",
    "    def fetchData(years = [2023]):\n",
    "        #years is a list of years. Optional argument\n",
    "        for year in years:\n",
    "            events = fastf1.events.get_event_schedule(year)\n",
    "            print(events)\n",
    "            roundNumbers = events['RoundNumber']\n",
    "            print(roundNumbers)    \n"
   ]
  },
  {
   "cell_type": "markdown",
   "metadata": {},
   "source": [
    "Class functionality testing"
   ]
  },
  {
   "cell_type": "code",
   "execution_count": 20,
   "metadata": {},
   "outputs": [
    {
     "ename": "TypeError",
     "evalue": "'<' not supported between instances of 'list' and 'int'",
     "output_type": "error",
     "traceback": [
      "\u001b[0;31m---------------------------------------------------------------------------\u001b[0m",
      "\u001b[0;31mTypeError\u001b[0m                                 Traceback (most recent call last)",
      "\u001b[1;32m/Users/arnav/Google Drive/Cornell/Coding Projects/F1LapPredictor/Data/F1DAL.ipynb Cell 4\u001b[0m line \u001b[0;36m1\n\u001b[0;32m----> <a href='vscode-notebook-cell:/Users/arnav/Google%20Drive/Cornell/Coding%20Projects/F1LapPredictor/Data/F1DAL.ipynb#W2sZmlsZQ%3D%3D?line=0'>1</a>\u001b[0m F1Dal\u001b[39m.\u001b[39mfetchData()\n",
      "\u001b[1;32m/Users/arnav/Google Drive/Cornell/Coding Projects/F1LapPredictor/Data/F1DAL.ipynb Cell 4\u001b[0m line \u001b[0;36m1\n\u001b[1;32m     <a href='vscode-notebook-cell:/Users/arnav/Google%20Drive/Cornell/Coding%20Projects/F1LapPredictor/Data/F1DAL.ipynb#W2sZmlsZQ%3D%3D?line=10'>11</a>\u001b[0m \u001b[39mdef\u001b[39;00m \u001b[39mfetchData\u001b[39m(years \u001b[39m=\u001b[39m [\u001b[39m2023\u001b[39m]):\n\u001b[1;32m     <a href='vscode-notebook-cell:/Users/arnav/Google%20Drive/Cornell/Coding%20Projects/F1LapPredictor/Data/F1DAL.ipynb#W2sZmlsZQ%3D%3D?line=11'>12</a>\u001b[0m     \u001b[39m#years is a list of years. Optional argument\u001b[39;00m\n\u001b[0;32m---> <a href='vscode-notebook-cell:/Users/arnav/Google%20Drive/Cornell/Coding%20Projects/F1LapPredictor/Data/F1DAL.ipynb#W2sZmlsZQ%3D%3D?line=12'>13</a>\u001b[0m     eventsTest \u001b[39m=\u001b[39m fastf1\u001b[39m.\u001b[39mevents\u001b[39m.\u001b[39mget_event_schedule(years)\n\u001b[1;32m     <a href='vscode-notebook-cell:/Users/arnav/Google%20Drive/Cornell/Coding%20Projects/F1LapPredictor/Data/F1DAL.ipynb#W2sZmlsZQ%3D%3D?line=13'>14</a>\u001b[0m     \u001b[39mprint\u001b[39m(eventsTest)\n",
      "File \u001b[0;32m/opt/anaconda3/lib/python3.11/site-packages/fastf1/events.py:513\u001b[0m, in \u001b[0;36mget_event_schedule\u001b[0;34m(year, include_testing, backend, force_ergast)\u001b[0m\n\u001b[1;32m    511\u001b[0m \u001b[39mif\u001b[39;00m backend \u001b[39mis\u001b[39;00m \u001b[39mnot\u001b[39;00m \u001b[39mNone\u001b[39;00m:\n\u001b[1;32m    512\u001b[0m     _backends \u001b[39m=\u001b[39m [_backends_named_order[backend]]\n\u001b[0;32m--> 513\u001b[0m \u001b[39melif\u001b[39;00m year \u001b[39m<\u001b[39m \u001b[39m2018\u001b[39m:\n\u001b[1;32m    514\u001b[0m     _backends \u001b[39m=\u001b[39m [_backends_named_order[\u001b[39m'\u001b[39m\u001b[39mergast\u001b[39m\u001b[39m'\u001b[39m]]\n\u001b[1;32m    515\u001b[0m \u001b[39melse\u001b[39;00m:\n",
      "\u001b[0;31mTypeError\u001b[0m: '<' not supported between instances of 'list' and 'int'"
     ]
    }
   ],
   "source": [
    "F1Dal.fetchData()"
   ]
  },
  {
   "cell_type": "code",
   "execution_count": null,
   "metadata": {},
   "outputs": [],
   "source": []
  }
 ],
 "metadata": {
  "kernelspec": {
   "display_name": "base",
   "language": "python",
   "name": "python3"
  },
  "language_info": {
   "codemirror_mode": {
    "name": "ipython",
    "version": 3
   },
   "file_extension": ".py",
   "mimetype": "text/x-python",
   "name": "python",
   "nbconvert_exporter": "python",
   "pygments_lexer": "ipython3",
   "version": "3.11.7"
  }
 },
 "nbformat": 4,
 "nbformat_minor": 2
}
